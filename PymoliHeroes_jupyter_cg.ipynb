{
 "cells": [
  {
   "cell_type": "code",
   "execution_count": 2,
   "metadata": {},
   "outputs": [],
   "source": [
    "import pandas as pd\n",
    "import json\n",
    "import numpy as np"
   ]
  },
  {
   "cell_type": "code",
   "execution_count": 20,
   "metadata": {},
   "outputs": [
    {
     "data": {
      "text/html": [
       "<div>\n",
       "<style scoped>\n",
       "    .dataframe tbody tr th:only-of-type {\n",
       "        vertical-align: middle;\n",
       "    }\n",
       "\n",
       "    .dataframe tbody tr th {\n",
       "        vertical-align: top;\n",
       "    }\n",
       "\n",
       "    .dataframe thead th {\n",
       "        text-align: right;\n",
       "    }\n",
       "</style>\n",
       "<table border=\"1\" class=\"dataframe\">\n",
       "  <thead>\n",
       "    <tr style=\"text-align: right;\">\n",
       "      <th></th>\n",
       "      <th>Age</th>\n",
       "      <th>Gender</th>\n",
       "      <th>Item ID</th>\n",
       "      <th>Item Name</th>\n",
       "      <th>Price</th>\n",
       "      <th>SN</th>\n",
       "    </tr>\n",
       "  </thead>\n",
       "  <tbody>\n",
       "    <tr>\n",
       "      <th>0</th>\n",
       "      <td>38</td>\n",
       "      <td>Male</td>\n",
       "      <td>165</td>\n",
       "      <td>Bone Crushing Silver Skewer</td>\n",
       "      <td>3.37</td>\n",
       "      <td>Aelalis34</td>\n",
       "    </tr>\n",
       "    <tr>\n",
       "      <th>1</th>\n",
       "      <td>21</td>\n",
       "      <td>Male</td>\n",
       "      <td>119</td>\n",
       "      <td>Stormbringer, Dark Blade of Ending Misery</td>\n",
       "      <td>2.32</td>\n",
       "      <td>Eolo46</td>\n",
       "    </tr>\n",
       "    <tr>\n",
       "      <th>2</th>\n",
       "      <td>34</td>\n",
       "      <td>Male</td>\n",
       "      <td>174</td>\n",
       "      <td>Primitive Blade</td>\n",
       "      <td>2.46</td>\n",
       "      <td>Assastnya25</td>\n",
       "    </tr>\n",
       "    <tr>\n",
       "      <th>3</th>\n",
       "      <td>21</td>\n",
       "      <td>Male</td>\n",
       "      <td>92</td>\n",
       "      <td>Final Critic</td>\n",
       "      <td>1.36</td>\n",
       "      <td>Pheusrical25</td>\n",
       "    </tr>\n",
       "    <tr>\n",
       "      <th>4</th>\n",
       "      <td>23</td>\n",
       "      <td>Male</td>\n",
       "      <td>63</td>\n",
       "      <td>Stormfury Mace</td>\n",
       "      <td>1.27</td>\n",
       "      <td>Aela59</td>\n",
       "    </tr>\n",
       "  </tbody>\n",
       "</table>\n",
       "</div>"
      ],
      "text/plain": [
       "   Age Gender  Item ID                                  Item Name  Price  \\\n",
       "0   38   Male      165                Bone Crushing Silver Skewer   3.37   \n",
       "1   21   Male      119  Stormbringer, Dark Blade of Ending Misery   2.32   \n",
       "2   34   Male      174                            Primitive Blade   2.46   \n",
       "3   21   Male       92                               Final Critic   1.36   \n",
       "4   23   Male       63                             Stormfury Mace   1.27   \n",
       "\n",
       "             SN  \n",
       "0     Aelalis34  \n",
       "1        Eolo46  \n",
       "2   Assastnya25  \n",
       "3  Pheusrical25  \n",
       "4        Aela59  "
      ]
     },
     "execution_count": 20,
     "metadata": {},
     "output_type": "execute_result"
    }
   ],
   "source": [
    "data = json.load(open('purchase_data.json', 'r'))\n",
    "heroes = json.dumps(data)\n",
    "df = pd.read_json(heroes)\n",
    "#df['Price'] = df['Price'].map('${:.2f}'.format)\n",
    "df.head()"
   ]
  },
  {
   "cell_type": "markdown",
   "metadata": {},
   "source": [
    "### Total players"
   ]
  },
  {
   "cell_type": "code",
   "execution_count": 4,
   "metadata": {},
   "outputs": [
    {
     "name": "stdout",
     "output_type": "stream",
     "text": [
      "total players: 573\n"
     ]
    }
   ],
   "source": [
    "players = df['SN'].unique().shape[0]\n",
    "print(\"total players: {}\".format(players))"
   ]
  },
  {
   "cell_type": "markdown",
   "metadata": {},
   "source": [
    "### Purchasing Analysis"
   ]
  },
  {
   "cell_type": "code",
   "execution_count": 5,
   "metadata": {},
   "outputs": [
    {
     "data": {
      "text/plain": [
       "183"
      ]
     },
     "execution_count": 5,
     "metadata": {},
     "output_type": "execute_result"
    }
   ],
   "source": [
    "#number of unique items\n",
    "unique_items = df['Item ID'].unique().shape[0]\n",
    "unique_items"
   ]
  },
  {
   "cell_type": "code",
   "execution_count": 9,
   "metadata": {},
   "outputs": [
    {
     "data": {
      "text/plain": [
       "'$2.93'"
      ]
     },
     "execution_count": 9,
     "metadata": {},
     "output_type": "execute_result"
    }
   ],
   "source": [
    "#average purchase price\n",
    "avg_price = '${}'.format(round(df[\"Price\"].mean(),2))\n",
    "avg_price"
   ]
  },
  {
   "cell_type": "code",
   "execution_count": 10,
   "metadata": {},
   "outputs": [
    {
     "data": {
      "text/plain": [
       "780"
      ]
     },
     "execution_count": 10,
     "metadata": {},
     "output_type": "execute_result"
    }
   ],
   "source": [
    "#total Number purchases\n",
    "purchase_count = df['Item Name'].count()\n",
    "purchase_count"
   ]
  },
  {
   "cell_type": "code",
   "execution_count": 11,
   "metadata": {},
   "outputs": [
    {
     "data": {
      "text/plain": [
       "'$2286.33'"
      ]
     },
     "execution_count": 11,
     "metadata": {},
     "output_type": "execute_result"
    }
   ],
   "source": [
    "#total revenue\n",
    "total_revenue = '${}'.format(round(df[\"Price\"].sum(),2))\n",
    "total_revenue"
   ]
  },
  {
   "cell_type": "code",
   "execution_count": 13,
   "metadata": {},
   "outputs": [
    {
     "data": {
      "text/html": [
       "<div>\n",
       "<style scoped>\n",
       "    .dataframe tbody tr th:only-of-type {\n",
       "        vertical-align: middle;\n",
       "    }\n",
       "\n",
       "    .dataframe tbody tr th {\n",
       "        vertical-align: top;\n",
       "    }\n",
       "\n",
       "    .dataframe thead th {\n",
       "        text-align: right;\n",
       "    }\n",
       "</style>\n",
       "<table border=\"1\" class=\"dataframe\">\n",
       "  <thead>\n",
       "    <tr style=\"text-align: right;\">\n",
       "      <th></th>\n",
       "      <th>Average Purchase Price</th>\n",
       "      <th>Item Count</th>\n",
       "      <th>Total Number of Purchases</th>\n",
       "      <th>Total Revenue</th>\n",
       "    </tr>\n",
       "  </thead>\n",
       "  <tbody>\n",
       "    <tr>\n",
       "      <th>0</th>\n",
       "      <td>$2.93</td>\n",
       "      <td>183</td>\n",
       "      <td>780</td>\n",
       "      <td>$2286.33</td>\n",
       "    </tr>\n",
       "  </tbody>\n",
       "</table>\n",
       "</div>"
      ],
      "text/plain": [
       "  Average Purchase Price  Item Count  Total Number of Purchases Total Revenue\n",
       "0                  $2.93         183                        780      $2286.33"
      ]
     },
     "execution_count": 13,
     "metadata": {},
     "output_type": "execute_result"
    }
   ],
   "source": [
    "purch_analysis = pd.DataFrame({\n",
    "    \"Item Count\": [unique_items],\n",
    "    \"Average Purchase Price\": [avg_price],\n",
    "    \"Total Number of Purchases\": [purchase_count],\n",
    "    \"Total Revenue\": [total_revenue]\n",
    "})\n",
    "purch_analysis"
   ]
  },
  {
   "cell_type": "markdown",
   "metadata": {},
   "source": [
    "### Gender Demographics"
   ]
  },
  {
   "cell_type": "code",
   "execution_count": 17,
   "metadata": {},
   "outputs": [
    {
     "data": {
      "text/html": [
       "<div>\n",
       "<style scoped>\n",
       "    .dataframe tbody tr th:only-of-type {\n",
       "        vertical-align: middle;\n",
       "    }\n",
       "\n",
       "    .dataframe tbody tr th {\n",
       "        vertical-align: top;\n",
       "    }\n",
       "\n",
       "    .dataframe thead th {\n",
       "        text-align: right;\n",
       "    }\n",
       "</style>\n",
       "<table border=\"1\" class=\"dataframe\">\n",
       "  <thead>\n",
       "    <tr style=\"text-align: right;\">\n",
       "      <th></th>\n",
       "      <th>Gender</th>\n",
       "      <th>Gender_Count</th>\n",
       "      <th>Percentage of Players</th>\n",
       "    </tr>\n",
       "  </thead>\n",
       "  <tbody>\n",
       "    <tr>\n",
       "      <th>0</th>\n",
       "      <td>Female</td>\n",
       "      <td>100</td>\n",
       "      <td>17.45%</td>\n",
       "    </tr>\n",
       "    <tr>\n",
       "      <th>1</th>\n",
       "      <td>Male</td>\n",
       "      <td>465</td>\n",
       "      <td>81.15%</td>\n",
       "    </tr>\n",
       "    <tr>\n",
       "      <th>2</th>\n",
       "      <td>Other / Non-Disclosed</td>\n",
       "      <td>8</td>\n",
       "      <td>1.40%</td>\n",
       "    </tr>\n",
       "  </tbody>\n",
       "</table>\n",
       "</div>"
      ],
      "text/plain": [
       "                  Gender  Gender_Count Percentage of Players\n",
       "0                 Female           100                17.45%\n",
       "1                   Male           465                81.15%\n",
       "2  Other / Non-Disclosed             8                 1.40%"
      ]
     },
     "execution_count": 17,
     "metadata": {},
     "output_type": "execute_result"
    }
   ],
   "source": [
    "#percentage and count of players by gender\n",
    "gender = df.groupby('Gender')['SN'].nunique().reset_index()\n",
    "gender = gender.rename(columns={'SN': 'Gender_Count'})\n",
    "total_players = gender.Gender_Count.sum()\n",
    "gender['Percentage of Players'] = (gender['Gender_Count']/total_players*100)\n",
    "gender['Percentage of Players'] = gender['Percentage of Players'].map('{:.2f}%'.format)\n",
    "gender"
   ]
  },
  {
   "cell_type": "markdown",
   "metadata": {},
   "source": [
    "### Purchasing Analysis (Gender)"
   ]
  },
  {
   "cell_type": "code",
   "execution_count": 21,
   "metadata": {},
   "outputs": [
    {
     "data": {
      "text/html": [
       "<div>\n",
       "<style scoped>\n",
       "    .dataframe tbody tr th:only-of-type {\n",
       "        vertical-align: middle;\n",
       "    }\n",
       "\n",
       "    .dataframe tbody tr th {\n",
       "        vertical-align: top;\n",
       "    }\n",
       "\n",
       "    .dataframe thead th {\n",
       "        text-align: right;\n",
       "    }\n",
       "</style>\n",
       "<table border=\"1\" class=\"dataframe\">\n",
       "  <thead>\n",
       "    <tr style=\"text-align: right;\">\n",
       "      <th></th>\n",
       "      <th>Gender</th>\n",
       "      <th>Purchase Count</th>\n",
       "      <th>Avg Purchase Price</th>\n",
       "      <th>Total Purchase Value</th>\n",
       "      <th>Normalized Totals</th>\n",
       "    </tr>\n",
       "  </thead>\n",
       "  <tbody>\n",
       "    <tr>\n",
       "      <th>0</th>\n",
       "      <td>Female</td>\n",
       "      <td>136</td>\n",
       "      <td>$2.82</td>\n",
       "      <td>$382.91</td>\n",
       "      <td>$3.83</td>\n",
       "    </tr>\n",
       "    <tr>\n",
       "      <th>1</th>\n",
       "      <td>Male</td>\n",
       "      <td>633</td>\n",
       "      <td>$2.95</td>\n",
       "      <td>$1,867.68</td>\n",
       "      <td>$4.02</td>\n",
       "    </tr>\n",
       "    <tr>\n",
       "      <th>2</th>\n",
       "      <td>Other / Non-Disclosed</td>\n",
       "      <td>11</td>\n",
       "      <td>$3.25</td>\n",
       "      <td>$35.74</td>\n",
       "      <td>$4.47</td>\n",
       "    </tr>\n",
       "  </tbody>\n",
       "</table>\n",
       "</div>"
      ],
      "text/plain": [
       "                  Gender  Purchase Count Avg Purchase Price  \\\n",
       "0                 Female             136              $2.82   \n",
       "1                   Male             633              $2.95   \n",
       "2  Other / Non-Disclosed              11              $3.25   \n",
       "\n",
       "  Total Purchase Value Normalized Totals  \n",
       "0              $382.91             $3.83  \n",
       "1            $1,867.68             $4.02  \n",
       "2               $35.74             $4.47  "
      ]
     },
     "execution_count": 21,
     "metadata": {},
     "output_type": "execute_result"
    }
   ],
   "source": [
    "#purchase count, avg purch price, total purch value, normalized total\n",
    "gender_purchase_analysis = df.groupby('Gender').Price.agg(['count', 'mean', 'sum']).reset_index()\n",
    "gender_purchase_analysis = gender_purchase_analysis.rename(columns={'count': 'Purchase Count', 'mean': 'Avg Purchase Price','sum': 'Total Purchase Value'})\n",
    "gender_purchase_analysis['Normalized Totals'] = gender_purchase_analysis['Total Purchase Value'] / gender['Gender_Count']\n",
    "gender_purchase_analysis['Avg Purchase Price'] = gender_purchase_analysis['Avg Purchase Price'].map('${:.2f}'.format)\n",
    "gender_purchase_analysis['Total Purchase Value'] = gender_purchase_analysis['Total Purchase Value'].map('${:,.2f}'.format)\n",
    "gender_purchase_analysis['Normalized Totals'] = gender_purchase_analysis['Normalized Totals'].map('${:.2f}'.format)\n",
    "gender_purchase_analysis"
   ]
  },
  {
   "cell_type": "markdown",
   "metadata": {},
   "source": [
    "### Age demographics"
   ]
  },
  {
   "cell_type": "code",
   "execution_count": 17,
   "metadata": {},
   "outputs": [
    {
     "data": {
      "text/html": [
       "<div>\n",
       "<style scoped>\n",
       "    .dataframe tbody tr th:only-of-type {\n",
       "        vertical-align: middle;\n",
       "    }\n",
       "\n",
       "    .dataframe tbody tr th {\n",
       "        vertical-align: top;\n",
       "    }\n",
       "\n",
       "    .dataframe thead th {\n",
       "        text-align: right;\n",
       "    }\n",
       "</style>\n",
       "<table border=\"1\" class=\"dataframe\">\n",
       "  <thead>\n",
       "    <tr style=\"text-align: right;\">\n",
       "      <th></th>\n",
       "      <th>Age Groups</th>\n",
       "      <th>Total Count</th>\n",
       "    </tr>\n",
       "  </thead>\n",
       "  <tbody>\n",
       "    <tr>\n",
       "      <th>0</th>\n",
       "      <td>&lt;10</td>\n",
       "      <td>22</td>\n",
       "    </tr>\n",
       "    <tr>\n",
       "      <th>1</th>\n",
       "      <td>10-14</td>\n",
       "      <td>20</td>\n",
       "    </tr>\n",
       "    <tr>\n",
       "      <th>2</th>\n",
       "      <td>15-19</td>\n",
       "      <td>100</td>\n",
       "    </tr>\n",
       "    <tr>\n",
       "      <th>3</th>\n",
       "      <td>20-24</td>\n",
       "      <td>259</td>\n",
       "    </tr>\n",
       "    <tr>\n",
       "      <th>4</th>\n",
       "      <td>25-29</td>\n",
       "      <td>87</td>\n",
       "    </tr>\n",
       "    <tr>\n",
       "      <th>5</th>\n",
       "      <td>30-34</td>\n",
       "      <td>47</td>\n",
       "    </tr>\n",
       "    <tr>\n",
       "      <th>6</th>\n",
       "      <td>35-39</td>\n",
       "      <td>27</td>\n",
       "    </tr>\n",
       "    <tr>\n",
       "      <th>7</th>\n",
       "      <td>40+</td>\n",
       "      <td>11</td>\n",
       "    </tr>\n",
       "  </tbody>\n",
       "</table>\n",
       "</div>"
      ],
      "text/plain": [
       "  Age Groups  Total Count\n",
       "0        <10           22\n",
       "1      10-14           20\n",
       "2      15-19          100\n",
       "3      20-24          259\n",
       "4      25-29           87\n",
       "5      30-34           47\n",
       "6      35-39           27\n",
       "7        40+           11"
      ]
     },
     "execution_count": 17,
     "metadata": {},
     "output_type": "execute_result"
    }
   ],
   "source": [
    "#create bins \n",
    "bins = [0, 10, 14, 19, 24, 29, 34, 39, 100]\n",
    "age_group_labels = ['<10', '10-14', '15-19', '20-24', '25-29', '30-34', '35-39','40+']\n",
    "df['Age Groups'] = pd.cut(df['Age'], bins, labels=age_group_labels)\n",
    "age_counts = (df.groupby(\"Age Groups\"))['SN'].nunique().reset_index()\n",
    "age_counts = age_counts.rename(columns={'SN': 'Total Count'})\n",
    "age_counts"
   ]
  },
  {
   "cell_type": "code",
   "execution_count": 18,
   "metadata": {},
   "outputs": [
    {
     "data": {
      "text/html": [
       "<div>\n",
       "<style scoped>\n",
       "    .dataframe tbody tr th:only-of-type {\n",
       "        vertical-align: middle;\n",
       "    }\n",
       "\n",
       "    .dataframe tbody tr th {\n",
       "        vertical-align: top;\n",
       "    }\n",
       "\n",
       "    .dataframe thead th {\n",
       "        text-align: right;\n",
       "    }\n",
       "</style>\n",
       "<table border=\"1\" class=\"dataframe\">\n",
       "  <thead>\n",
       "    <tr style=\"text-align: right;\">\n",
       "      <th></th>\n",
       "      <th>Age Groups</th>\n",
       "      <th>Purchase Count</th>\n",
       "      <th>Avg Purchase Price</th>\n",
       "      <th>Total Purchase Value</th>\n",
       "      <th>Normalized Totals</th>\n",
       "    </tr>\n",
       "  </thead>\n",
       "  <tbody>\n",
       "    <tr>\n",
       "      <th>0</th>\n",
       "      <td>&lt;10</td>\n",
       "      <td>32</td>\n",
       "      <td>$3.02</td>\n",
       "      <td>$96.62</td>\n",
       "      <td>$4.39</td>\n",
       "    </tr>\n",
       "    <tr>\n",
       "      <th>1</th>\n",
       "      <td>10-14</td>\n",
       "      <td>31</td>\n",
       "      <td>$2.70</td>\n",
       "      <td>$83.79</td>\n",
       "      <td>$4.19</td>\n",
       "    </tr>\n",
       "    <tr>\n",
       "      <th>2</th>\n",
       "      <td>15-19</td>\n",
       "      <td>133</td>\n",
       "      <td>$2.91</td>\n",
       "      <td>$386.42</td>\n",
       "      <td>$3.86</td>\n",
       "    </tr>\n",
       "    <tr>\n",
       "      <th>3</th>\n",
       "      <td>20-24</td>\n",
       "      <td>336</td>\n",
       "      <td>$2.91</td>\n",
       "      <td>$978.77</td>\n",
       "      <td>$3.78</td>\n",
       "    </tr>\n",
       "    <tr>\n",
       "      <th>4</th>\n",
       "      <td>25-29</td>\n",
       "      <td>125</td>\n",
       "      <td>$2.96</td>\n",
       "      <td>$370.33</td>\n",
       "      <td>$4.26</td>\n",
       "    </tr>\n",
       "    <tr>\n",
       "      <th>5</th>\n",
       "      <td>30-34</td>\n",
       "      <td>64</td>\n",
       "      <td>$3.08</td>\n",
       "      <td>$197.25</td>\n",
       "      <td>$4.20</td>\n",
       "    </tr>\n",
       "    <tr>\n",
       "      <th>6</th>\n",
       "      <td>35-39</td>\n",
       "      <td>42</td>\n",
       "      <td>$2.84</td>\n",
       "      <td>$119.40</td>\n",
       "      <td>$4.42</td>\n",
       "    </tr>\n",
       "    <tr>\n",
       "      <th>7</th>\n",
       "      <td>40+</td>\n",
       "      <td>17</td>\n",
       "      <td>$3.16</td>\n",
       "      <td>$53.75</td>\n",
       "      <td>$4.89</td>\n",
       "    </tr>\n",
       "  </tbody>\n",
       "</table>\n",
       "</div>"
      ],
      "text/plain": [
       "  Age Groups  Purchase Count Avg Purchase Price Total Purchase Value  \\\n",
       "0        <10              32              $3.02               $96.62   \n",
       "1      10-14              31              $2.70               $83.79   \n",
       "2      15-19             133              $2.91              $386.42   \n",
       "3      20-24             336              $2.91              $978.77   \n",
       "4      25-29             125              $2.96              $370.33   \n",
       "5      30-34              64              $3.08              $197.25   \n",
       "6      35-39              42              $2.84              $119.40   \n",
       "7        40+              17              $3.16               $53.75   \n",
       "\n",
       "  Normalized Totals  \n",
       "0             $4.39  \n",
       "1             $4.19  \n",
       "2             $3.86  \n",
       "3             $3.78  \n",
       "4             $4.26  \n",
       "5             $4.20  \n",
       "6             $4.42  \n",
       "7             $4.89  "
      ]
     },
     "execution_count": 18,
     "metadata": {},
     "output_type": "execute_result"
    }
   ],
   "source": [
    "#purchase count, avg purchase price, total purchase value, normalized totals\n",
    "age_purch_data = df.groupby('Age Groups').Price.agg(['count', 'mean', 'sum']).reset_index()\n",
    "age_purch_data = age_purch_data.rename(columns={'count': 'Purchase Count', 'mean': 'Avg Purchase Price','sum': 'Total Purchase Value'})\n",
    "age_purch_data['Normalized Totals'] = age_purch_data['Total Purchase Value'] / age_counts['Total Count']\n",
    "age_purch_data['Avg Purchase Price'] = age_purch_data['Avg Purchase Price'].map('${:.2f}'.format)\n",
    "age_purch_data['Total Purchase Value'] = age_purch_data['Total Purchase Value'].map('${:.2f}'.format)\n",
    "age_purch_data['Normalized Totals'] = age_purch_data['Normalized Totals'].map('${:.2f}'.format)\n",
    "\n",
    "age_purch_data"
   ]
  },
  {
   "cell_type": "markdown",
   "metadata": {},
   "source": [
    "### Top Spenders\n",
    "by purchase value"
   ]
  },
  {
   "cell_type": "code",
   "execution_count": 34,
   "metadata": {},
   "outputs": [
    {
     "data": {
      "text/html": [
       "<div>\n",
       "<style scoped>\n",
       "    .dataframe tbody tr th:only-of-type {\n",
       "        vertical-align: middle;\n",
       "    }\n",
       "\n",
       "    .dataframe tbody tr th {\n",
       "        vertical-align: top;\n",
       "    }\n",
       "\n",
       "    .dataframe thead th {\n",
       "        text-align: right;\n",
       "    }\n",
       "</style>\n",
       "<table border=\"1\" class=\"dataframe\">\n",
       "  <thead>\n",
       "    <tr style=\"text-align: right;\">\n",
       "      <th></th>\n",
       "      <th>SN</th>\n",
       "      <th>Purchase Count</th>\n",
       "      <th>Avg Purchase Price</th>\n",
       "      <th>Total Purchase Value</th>\n",
       "    </tr>\n",
       "  </thead>\n",
       "  <tbody>\n",
       "    <tr>\n",
       "      <th>0</th>\n",
       "      <td>Undirrala66</td>\n",
       "      <td>5</td>\n",
       "      <td>$3.41</td>\n",
       "      <td>$17.06</td>\n",
       "    </tr>\n",
       "    <tr>\n",
       "      <th>1</th>\n",
       "      <td>Saedue76</td>\n",
       "      <td>4</td>\n",
       "      <td>$3.39</td>\n",
       "      <td>$13.56</td>\n",
       "    </tr>\n",
       "    <tr>\n",
       "      <th>2</th>\n",
       "      <td>Mindimnya67</td>\n",
       "      <td>4</td>\n",
       "      <td>$3.18</td>\n",
       "      <td>$12.74</td>\n",
       "    </tr>\n",
       "    <tr>\n",
       "      <th>3</th>\n",
       "      <td>Haellysu29</td>\n",
       "      <td>3</td>\n",
       "      <td>$4.24</td>\n",
       "      <td>$12.73</td>\n",
       "    </tr>\n",
       "    <tr>\n",
       "      <th>4</th>\n",
       "      <td>Eoda93</td>\n",
       "      <td>3</td>\n",
       "      <td>$3.86</td>\n",
       "      <td>$11.58</td>\n",
       "    </tr>\n",
       "  </tbody>\n",
       "</table>\n",
       "</div>"
      ],
      "text/plain": [
       "            SN  Purchase Count Avg Purchase Price Total Purchase Value\n",
       "0  Undirrala66               5              $3.41               $17.06\n",
       "1     Saedue76               4              $3.39               $13.56\n",
       "2  Mindimnya67               4              $3.18               $12.74\n",
       "3   Haellysu29               3              $4.24               $12.73\n",
       "4       Eoda93               3              $3.86               $11.58"
      ]
     },
     "execution_count": 34,
     "metadata": {},
     "output_type": "execute_result"
    }
   ],
   "source": [
    "#SN, Purchase Count, Avg Purch price, Total Purch Value\n",
    "df_top_cust = df.groupby('SN').Price.agg(['count', 'mean', 'sum']).nlargest(5, \"sum\").reset_index()\n",
    "df_top_cust = df_top_cust.rename(columns={'count': 'Purchase Count', 'mean': 'Avg Purchase Price','sum': 'Total Purchase Value'})\n",
    "df_top_cust['Avg Purchase Price'] = df_top_cust['Avg Purchase Price'].map('${:.2f}'.format)\n",
    "df_top_cust['Total Purchase Value'] = df_top_cust['Total Purchase Value'].map('${:.2f}'.format)\n",
    "df_top_cust"
   ]
  },
  {
   "cell_type": "markdown",
   "metadata": {},
   "source": [
    "### Most Popular item\n",
    "by purchase count"
   ]
  },
  {
   "cell_type": "code",
   "execution_count": 32,
   "metadata": {},
   "outputs": [
    {
     "data": {
      "text/html": [
       "<div>\n",
       "<style scoped>\n",
       "    .dataframe tbody tr th:only-of-type {\n",
       "        vertical-align: middle;\n",
       "    }\n",
       "\n",
       "    .dataframe tbody tr th {\n",
       "        vertical-align: top;\n",
       "    }\n",
       "\n",
       "    .dataframe thead th {\n",
       "        text-align: right;\n",
       "    }\n",
       "</style>\n",
       "<table border=\"1\" class=\"dataframe\">\n",
       "  <thead>\n",
       "    <tr style=\"text-align: right;\">\n",
       "      <th></th>\n",
       "      <th>Item ID</th>\n",
       "      <th>Item Name</th>\n",
       "      <th>Price</th>\n",
       "      <th>Purchase Count</th>\n",
       "      <th>Total Purchase Value</th>\n",
       "    </tr>\n",
       "  </thead>\n",
       "  <tbody>\n",
       "    <tr>\n",
       "      <th>0</th>\n",
       "      <td>39</td>\n",
       "      <td>Betrayal, Whisper of Grieving Widows</td>\n",
       "      <td>$2.35</td>\n",
       "      <td>11</td>\n",
       "      <td>$25.85</td>\n",
       "    </tr>\n",
       "    <tr>\n",
       "      <th>1</th>\n",
       "      <td>84</td>\n",
       "      <td>Arcane Gem</td>\n",
       "      <td>$2.23</td>\n",
       "      <td>11</td>\n",
       "      <td>$24.53</td>\n",
       "    </tr>\n",
       "    <tr>\n",
       "      <th>2</th>\n",
       "      <td>13</td>\n",
       "      <td>Serenity</td>\n",
       "      <td>$1.49</td>\n",
       "      <td>9</td>\n",
       "      <td>$13.41</td>\n",
       "    </tr>\n",
       "    <tr>\n",
       "      <th>3</th>\n",
       "      <td>31</td>\n",
       "      <td>Trickster</td>\n",
       "      <td>$2.07</td>\n",
       "      <td>9</td>\n",
       "      <td>$18.63</td>\n",
       "    </tr>\n",
       "    <tr>\n",
       "      <th>4</th>\n",
       "      <td>34</td>\n",
       "      <td>Retribution Axe</td>\n",
       "      <td>$4.14</td>\n",
       "      <td>9</td>\n",
       "      <td>$37.26</td>\n",
       "    </tr>\n",
       "  </tbody>\n",
       "</table>\n",
       "</div>"
      ],
      "text/plain": [
       "   Item ID                             Item Name  Price  Purchase Count  \\\n",
       "0       39  Betrayal, Whisper of Grieving Widows  $2.35              11   \n",
       "1       84                            Arcane Gem  $2.23              11   \n",
       "2       13                              Serenity  $1.49               9   \n",
       "3       31                             Trickster  $2.07               9   \n",
       "4       34                       Retribution Axe  $4.14               9   \n",
       "\n",
       "  Total Purchase Value  \n",
       "0               $25.85  \n",
       "1               $24.53  \n",
       "2               $13.41  \n",
       "3               $18.63  \n",
       "4               $37.26  "
      ]
     },
     "execution_count": 32,
     "metadata": {},
     "output_type": "execute_result"
    }
   ],
   "source": [
    "#Item ID, Item Name, Purchase Count, Item Price\n",
    "df_top_prod = df.groupby(['Item ID', 'Item Name', 'Price']).Price.agg(['count', 'mean', 'sum']).nlargest(5, \"count\").reset_index()\n",
    "df_top_prod = df_top_prod.rename(columns={'count': 'Purchase Count', 'mean': 'Average Price','sum': 'Total Purchase Value'})\n",
    "df_top_prod['Price'] = df_top_prod['Price'].map('${:.2f}'.format)\n",
    "df_top_prod['Total Purchase Value'] = df_top_prod['Total Purchase Value'].map('${:.2f}'.format)\n",
    "del df_top_prod[\"Average Price\"]\n",
    "df_top_prod"
   ]
  },
  {
   "cell_type": "markdown",
   "metadata": {},
   "source": [
    "### Most Profitable\n",
    "by purchase value"
   ]
  },
  {
   "cell_type": "code",
   "execution_count": 33,
   "metadata": {},
   "outputs": [
    {
     "data": {
      "text/html": [
       "<div>\n",
       "<style scoped>\n",
       "    .dataframe tbody tr th:only-of-type {\n",
       "        vertical-align: middle;\n",
       "    }\n",
       "\n",
       "    .dataframe tbody tr th {\n",
       "        vertical-align: top;\n",
       "    }\n",
       "\n",
       "    .dataframe thead th {\n",
       "        text-align: right;\n",
       "    }\n",
       "</style>\n",
       "<table border=\"1\" class=\"dataframe\">\n",
       "  <thead>\n",
       "    <tr style=\"text-align: right;\">\n",
       "      <th></th>\n",
       "      <th>Item Name</th>\n",
       "      <th>Item ID</th>\n",
       "      <th>Price</th>\n",
       "      <th>Purchase Count</th>\n",
       "      <th>Total Purchase Value</th>\n",
       "    </tr>\n",
       "  </thead>\n",
       "  <tbody>\n",
       "    <tr>\n",
       "      <th>0</th>\n",
       "      <td>Retribution Axe</td>\n",
       "      <td>34</td>\n",
       "      <td>$4.14</td>\n",
       "      <td>9</td>\n",
       "      <td>$37.26</td>\n",
       "    </tr>\n",
       "    <tr>\n",
       "      <th>1</th>\n",
       "      <td>Spectral Diamond Doomblade</td>\n",
       "      <td>115</td>\n",
       "      <td>$4.25</td>\n",
       "      <td>7</td>\n",
       "      <td>$29.75</td>\n",
       "    </tr>\n",
       "    <tr>\n",
       "      <th>2</th>\n",
       "      <td>Orenmir</td>\n",
       "      <td>32</td>\n",
       "      <td>$4.95</td>\n",
       "      <td>6</td>\n",
       "      <td>$29.70</td>\n",
       "    </tr>\n",
       "    <tr>\n",
       "      <th>3</th>\n",
       "      <td>Singed Scalpel</td>\n",
       "      <td>103</td>\n",
       "      <td>$4.87</td>\n",
       "      <td>6</td>\n",
       "      <td>$29.22</td>\n",
       "    </tr>\n",
       "    <tr>\n",
       "      <th>4</th>\n",
       "      <td>Splitter, Foe Of Subtlety</td>\n",
       "      <td>107</td>\n",
       "      <td>$3.61</td>\n",
       "      <td>8</td>\n",
       "      <td>$28.88</td>\n",
       "    </tr>\n",
       "  </tbody>\n",
       "</table>\n",
       "</div>"
      ],
      "text/plain": [
       "                    Item Name  Item ID  Price  Purchase Count  \\\n",
       "0             Retribution Axe       34  $4.14               9   \n",
       "1  Spectral Diamond Doomblade      115  $4.25               7   \n",
       "2                     Orenmir       32  $4.95               6   \n",
       "3              Singed Scalpel      103  $4.87               6   \n",
       "4   Splitter, Foe Of Subtlety      107  $3.61               8   \n",
       "\n",
       "  Total Purchase Value  \n",
       "0               $37.26  \n",
       "1               $29.75  \n",
       "2               $29.70  \n",
       "3               $29.22  \n",
       "4               $28.88  "
      ]
     },
     "execution_count": 33,
     "metadata": {},
     "output_type": "execute_result"
    }
   ],
   "source": [
    "#Item ID, Item Name, Purchase Count, Item Price, Total Purchase Value\n",
    "df_top_profit = df.groupby(['Item Name', 'Item ID', 'Price']).Price.agg(['count', 'mean', 'sum']).nlargest(5, \"sum\").reset_index()\n",
    "df_top_profit = df_top_profit.rename(columns={'count': 'Purchase Count', 'mean': 'Average Price','sum': 'Total Purchase Value'})\n",
    "df_top_profit['Total Purchase Value'] = df_top_profit['Total Purchase Value'].map('${:.2f}'.format)\n",
    "df_top_profit['Price'] = df_top_profit['Price'].map('${:.2f}'.format)\n",
    "del df_top_profit['Average Price']\n",
    "df_top_profit"
   ]
  },
  {
   "cell_type": "markdown",
   "metadata": {},
   "source": [
    "### observations\n",
    "1. 15-30 year old males are largely the dominant consumers of this video game.\n",
    "2. No single product is a revenue driver for them. The most popular item only sold 11 times.\n",
    "3. Even with 183 items available, no one purchased more than five items so they must be to a very targeted audience"
   ]
  }
 ],
 "metadata": {
  "kernelspec": {
   "display_name": "Python 3",
   "language": "python",
   "name": "python3"
  },
  "language_info": {
   "codemirror_mode": {
    "name": "ipython",
    "version": 3
   },
   "file_extension": ".py",
   "mimetype": "text/x-python",
   "name": "python",
   "nbconvert_exporter": "python",
   "pygments_lexer": "ipython3",
   "version": "3.6.4"
  }
 },
 "nbformat": 4,
 "nbformat_minor": 2
}
